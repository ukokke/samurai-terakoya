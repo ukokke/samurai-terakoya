{
  "nbformat": 4,
  "nbformat_minor": 0,
  "metadata": {
    "colab": {
      "provenance": [],
      "gpuType": "T4",
      "toc_visible": true
    },
    "kernelspec": {
      "name": "python3",
      "display_name": "Python 3"
    },
    "language_info": {
      "name": "python"
    },
    "accelerator": "GPU"
  },
  "cells": [
    {
      "cell_type": "code",
      "source": [
        "# @title デフォルトのタイトル テキスト\n",
        "import random\n",
        "var=random.randint(0,1000)\n",
        "print(var)\n",
        "if var % 15==0:\n",
        "    print(\"FizzBuzz\")\n",
        "elif var % 5 ==0:\n",
        "    print(\"Buzz\")\n",
        "elif var % 3 ==0:\n",
        "    print(\"Fizz\")\n",
        "else:\n",
        "    print(var)"
      ],
      "metadata": {
        "colab": {
          "base_uri": "https://localhost:8080/"
        },
        "id": "efk8e6f-6us9",
        "outputId": "b7322a79-d10b-4a5f-b0e1-ac90ab6a3aae"
      },
      "execution_count": 78,
      "outputs": [
        {
          "output_type": "stream",
          "name": "stdout",
          "text": [
            "347\n",
            "347\n"
          ]
        }
      ]
    },
    {
      "cell_type": "markdown",
      "source": [],
      "metadata": {
        "id": "5ONZphGppYXh"
      }
    }
  ]
}