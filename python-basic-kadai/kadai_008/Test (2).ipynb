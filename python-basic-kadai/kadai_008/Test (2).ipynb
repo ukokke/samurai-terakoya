{
  "nbformat": 4,
  "nbformat_minor": 0,
  "metadata": {
    "colab": {
      "provenance": [],
      "gpuType": "T4",
      "toc_visible": true
    },
    "kernelspec": {
      "name": "python3",
      "display_name": "Python 3"
    },
    "language_info": {
      "name": "python"
    },
    "accelerator": "GPU"
  },
  "cells": [
    {
      "cell_type": "code",
      "source": [
        "# @title デフォルトのタイトル テキスト\n",
        "import random\n",
        "var=random.randint(0,30)\n",
        "print(var)\n",
        "if var==15 or var==30:\n",
        "    print(\"FizzBuzz\")\n",
        "elif var==5 or var==10 or var==15 or var==20 or var==25 or var==30:\n",
        "    print(\"Buzz\")\n",
        "elif var==3 or var==6 or var==9 or var==12 or var==15 or var==18 or var==21 or var==24 or var==27 or var==30:\n",
        "    print(\"Fizz\")\n",
        "else:\n",
        "    print(var)"
      ],
      "metadata": {
        "colab": {
          "base_uri": "https://localhost:8080/"
        },
        "id": "efk8e6f-6us9",
        "outputId": "5a4c162a-5163-4c21-c7e3-8f39433a0abf"
      },
      "execution_count": null,
      "outputs": [
        {
          "output_type": "stream",
          "name": "stdout",
          "text": [
            "15\n",
            "FizzBuzz\n"
          ]
        }
      ]
    },
    {
      "cell_type": "markdown",
      "source": [],
      "metadata": {
        "id": "5ONZphGppYXh"
      }
    }
  ]
}